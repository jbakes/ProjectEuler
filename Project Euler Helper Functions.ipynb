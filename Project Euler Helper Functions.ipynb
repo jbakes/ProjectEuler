{
 "metadata": {
  "name": ""
 },
 "nbformat": 3,
 "nbformat_minor": 0,
 "worksheets": [
  {
   "cells": [
    {
     "cell_type": "code",
     "collapsed": false,
     "input": [
      "def relativelyPrimeToList(q, prime_list):\n",
      "    \"\"\"returns whether q is divisible by anything in the prime list\"\"\"\n",
      "    for p in prime_list:\n",
      "        if q % p == 0 : return False\n",
      "        if p**2 > q : return True\n",
      "    return True"
     ],
     "language": "python",
     "metadata": {},
     "outputs": [],
     "prompt_number": 19
    },
    {
     "cell_type": "code",
     "collapsed": false,
     "input": [
      "def nthPrime(n):\n",
      "    \"\"\"returns the nth prime number\"\"\"\n",
      "    prime_list = [2]\n",
      "    i = 2\n",
      "    while len(prime_list) < n:\n",
      "        i += 1\n",
      "        if relativelyPrime(i, prime_list): prime_list.append(i)\n",
      "    return prime_list[-1]"
     ],
     "language": "python",
     "metadata": {},
     "outputs": [],
     "prompt_number": 9
    },
    {
     "cell_type": "code",
     "collapsed": false,
     "input": [
      "def primeList( n ):\n",
      "    \"\"\"returns all the primes less than n\"\"\"\n",
      "    prime_list = [2]\n",
      "    i = 2\n",
      "    while i < n:\n",
      "        i += 1\n",
      "        if relativelyPrime(i, prime_list): prime_list.append(i)\n",
      "    return prime_list"
     ],
     "language": "python",
     "metadata": {},
     "outputs": [],
     "prompt_number": 12
    },
    {
     "cell_type": "code",
     "collapsed": false,
     "input": [
      "nthPrime(4)"
     ],
     "language": "python",
     "metadata": {},
     "outputs": [
      {
       "metadata": {},
       "output_type": "pyout",
       "prompt_number": 8,
       "text": [
        "7"
       ]
      }
     ],
     "prompt_number": 8
    },
    {
     "cell_type": "code",
     "collapsed": false,
     "input": [
      "primeList(100)"
     ],
     "language": "python",
     "metadata": {},
     "outputs": [
      {
       "metadata": {},
       "output_type": "pyout",
       "prompt_number": 14,
       "text": [
        "[2,\n",
        " 3,\n",
        " 5,\n",
        " 7,\n",
        " 11,\n",
        " 13,\n",
        " 17,\n",
        " 19,\n",
        " 23,\n",
        " 29,\n",
        " 31,\n",
        " 37,\n",
        " 41,\n",
        " 43,\n",
        " 47,\n",
        " 53,\n",
        " 59,\n",
        " 61,\n",
        " 67,\n",
        " 71,\n",
        " 73,\n",
        " 79,\n",
        " 83,\n",
        " 89,\n",
        " 97]"
       ]
      }
     ],
     "prompt_number": 14
    },
    {
     "cell_type": "code",
     "collapsed": false,
     "input": [
      "#problem 7 - find the 10,001st prime number"
     ],
     "language": "python",
     "metadata": {},
     "outputs": [],
     "prompt_number": 15
    },
    {
     "cell_type": "code",
     "collapsed": false,
     "input": [
      "nthPrime(10001)"
     ],
     "language": "python",
     "metadata": {},
     "outputs": [
      {
       "metadata": {},
       "output_type": "pyout",
       "prompt_number": 16,
       "text": [
        "104743"
       ]
      }
     ],
     "prompt_number": 16
    },
    {
     "cell_type": "code",
     "collapsed": false,
     "input": [
      "relativelyPrimeToList(107, [2,3,5,7,11,13])"
     ],
     "language": "python",
     "metadata": {},
     "outputs": [
      {
       "metadata": {},
       "output_type": "pyout",
       "prompt_number": 20,
       "text": [
        "True"
       ]
      }
     ],
     "prompt_number": 20
    },
    {
     "cell_type": "code",
     "collapsed": false,
     "input": [],
     "language": "python",
     "metadata": {},
     "outputs": []
    }
   ],
   "metadata": {}
  }
 ]
}